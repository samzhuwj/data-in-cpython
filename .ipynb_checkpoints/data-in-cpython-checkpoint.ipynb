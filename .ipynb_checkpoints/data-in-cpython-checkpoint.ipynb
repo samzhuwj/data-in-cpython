{
 "cells": [
  {
   "cell_type": "markdown",
   "metadata": {},
   "source": [
    "## type()"
   ]
  },
  {
   "cell_type": "code",
   "execution_count": 32,
   "metadata": {},
   "outputs": [
    {
     "data": {
      "text/plain": [
       "int"
      ]
     },
     "execution_count": 32,
     "metadata": {},
     "output_type": "execute_result"
    }
   ],
   "source": [
    "type(1)"
   ]
  },
  {
   "cell_type": "code",
   "execution_count": 33,
   "metadata": {},
   "outputs": [
    {
     "data": {
      "text/plain": [
       "float"
      ]
     },
     "execution_count": 33,
     "metadata": {},
     "output_type": "execute_result"
    }
   ],
   "source": [
    "type(1.1)"
   ]
  },
  {
   "cell_type": "code",
   "execution_count": 34,
   "metadata": {},
   "outputs": [
    {
     "data": {
      "text/plain": [
       "str"
      ]
     },
     "execution_count": 34,
     "metadata": {},
     "output_type": "execute_result"
    }
   ],
   "source": [
    "s='a string'\n",
    "type(s)"
   ]
  },
  {
   "cell_type": "code",
   "execution_count": 35,
   "metadata": {},
   "outputs": [
    {
     "data": {
      "text/plain": [
       "1"
      ]
     },
     "execution_count": 35,
     "metadata": {},
     "output_type": "execute_result"
    }
   ],
   "source": [
    "int(1)"
   ]
  },
  {
   "cell_type": "code",
   "execution_count": 36,
   "metadata": {},
   "outputs": [
    {
     "data": {
      "text/plain": [
       "'a string'"
      ]
     },
     "execution_count": 36,
     "metadata": {},
     "output_type": "execute_result"
    }
   ],
   "source": [
    "str('a string')"
   ]
  },
  {
   "cell_type": "markdown",
   "metadata": {},
   "source": [
    "## id()"
   ]
  },
  {
   "cell_type": "code",
   "execution_count": 9,
   "metadata": {},
   "outputs": [
    {
     "data": {
      "text/plain": [
       "1"
      ]
     },
     "execution_count": 9,
     "metadata": {},
     "output_type": "execute_result"
    }
   ],
   "source": [
    "int(1)"
   ]
  },
  {
   "cell_type": "code",
   "execution_count": 10,
   "metadata": {},
   "outputs": [
    {
     "data": {
      "text/plain": [
       "4297652608"
      ]
     },
     "execution_count": 10,
     "metadata": {},
     "output_type": "execute_result"
    }
   ],
   "source": [
    "id(1)"
   ]
  },
  {
   "cell_type": "markdown",
   "metadata": {},
   "source": [
    "## binding"
   ]
  },
  {
   "cell_type": "code",
   "execution_count": 37,
   "metadata": {},
   "outputs": [
    {
     "name": "stdout",
     "output_type": "stream",
     "text": [
      "1\n"
     ]
    }
   ],
   "source": [
    "a=1\n",
    "print(a)"
   ]
  },
  {
   "cell_type": "code",
   "execution_count": 13,
   "metadata": {},
   "outputs": [
    {
     "data": {
      "text/plain": [
       "4297652608"
      ]
     },
     "execution_count": 13,
     "metadata": {},
     "output_type": "execute_result"
    }
   ],
   "source": [
    "id(a)"
   ]
  },
  {
   "cell_type": "markdown",
   "metadata": {},
   "source": [
    "## 可变和不可变数据类型"
   ]
  },
  {
   "cell_type": "code",
   "execution_count": 16,
   "metadata": {},
   "outputs": [
    {
     "data": {
      "text/plain": [
       "True"
      ]
     },
     "execution_count": 16,
     "metadata": {},
     "output_type": "execute_result"
    }
   ],
   "source": [
    "a=int()\n",
    "a is b\n",
    "a is b"
   ]
  },
  {
   "cell_type": "code",
   "execution_count": 17,
   "metadata": {},
   "outputs": [
    {
     "data": {
      "text/plain": [
       "False"
      ]
     },
     "execution_count": 17,
     "metadata": {},
     "output_type": "execute_result"
    }
   ],
   "source": [
    "a=list()\n",
    "b=list()\n",
    "a is b"
   ]
  },
  {
   "cell_type": "markdown",
   "metadata": {},
   "source": [
    "## 不可变类型"
   ]
  },
  {
   "cell_type": "code",
   "execution_count": 18,
   "metadata": {},
   "outputs": [
    {
     "name": "stdout",
     "output_type": "stream",
     "text": [
      "1: 4297652608\n",
      "string: 4338467536\n",
      "tuple: 4298666056\n",
      "1: 4297652608\n",
      "string: 4338467536\n",
      "tuple: 4298666056\n",
      "1: 4297652608\n",
      "string: 4338467536\n",
      "tuple: 4298666056\n",
      "1: 4297652608\n",
      "string: 4338467536\n",
      "tuple: 4298666056\n"
     ]
    }
   ],
   "source": [
    "#!/usr/bin/env python\n",
    "from __future__ import print_function\n",
    "\n",
    "#immutable data types\n",
    "\n",
    "int(1)\n",
    "print('1: {0}'.format(id(1)))\n",
    "\n",
    "str('string')\n",
    "print('string: {0}'.format(id('string')))\n",
    "\n",
    "tuple()\n",
    "print('tuple: {0}'.format(id(tuple())))\n",
    "\n",
    "def func():\n",
    "    a = int(1)\n",
    "    s = str('string')\n",
    "    t = tuple()\n",
    "    print('1: {0}'.format(id(a)))\n",
    "    print('string: {0}'.format(id(s)))\n",
    "    print('tuple: {0}'.format(id(t)))\n",
    "\n",
    "class A:\n",
    "\n",
    "    def __init__(self):\n",
    "        self.a = int(1)\n",
    "        self.s = str('string')\n",
    "        self.t = tuple()\n",
    "\n",
    "        print('1: {0}'.format(id(self.a)))\n",
    "        print('string: {0}'.format(id(self.s)))\n",
    "        print('tuple: {0}'.format(id(self.t)))\n",
    "\n",
    "if __name__=='__main__':\n",
    "    func()\n",
    "    a = A()\n",
    "    b = A()"
   ]
  },
  {
   "cell_type": "markdown",
   "metadata": {},
   "source": [
    "## 可变类型"
   ]
  },
  {
   "cell_type": "code",
   "execution_count": 19,
   "metadata": {},
   "outputs": [
    {
     "name": "stdout",
     "output_type": "stream",
     "text": [
      "dict: 4376405768\n",
      "list: 4376632776\n",
      "dict: 4376600720\n",
      "list: 4376633096\n",
      "dict: 4376601008\n",
      "list: 4376632840\n",
      "dict: 4376601440\n",
      "list: 4376632904\n"
     ]
    }
   ],
   "source": [
    "#!/usr/bin/env python\n",
    "\n",
    "# mutable data types: dictionary, list.\n",
    "\n",
    "from __future__ import print_function\n",
    "\n",
    "dict()\n",
    "print('dict: {0}'.format(id(dict())))\n",
    "\n",
    "list()\n",
    "print('list: {0}'.format(id(list())))\n",
    "\n",
    "def func():\n",
    "    d = dict()\n",
    "    print('dict: {0}'.format(id(d)))\n",
    "\n",
    "    l = list()\n",
    "    print('list: {0}'.format(id(l)))\n",
    "\n",
    "class A:\n",
    "\n",
    "    def __init__(self):\n",
    "        self.d = dict()\n",
    "        self.l = list()\n",
    "        print('dict: {0}'.format(id(self.d)))\n",
    "        print('list: {0}'.format(id(self.l)))\n",
    "\n",
    "if __name__=='__main__':\n",
    "\n",
    "    func()\n",
    "    a = A()\n",
    "    b = A()"
   ]
  },
  {
   "cell_type": "markdown",
   "metadata": {},
   "source": [
    "## 函数参数"
   ]
  },
  {
   "cell_type": "code",
   "execution_count": 20,
   "metadata": {},
   "outputs": [
    {
     "name": "stdout",
     "output_type": "stream",
     "text": [
      "Before func()\n",
      "a string : 4376598832\n",
      "[1, 3, 4] : 4376631304\n",
      "{} : 4376509248\n",
      "\n",
      "In func() before modification\n",
      "a string : 4376598832\n",
      "[1, 3, 4] : 4376631304\n",
      "{} : 4376509248\n",
      "\n",
      "In func() after modification\n",
      "b string : 4376597744\n",
      "[1, 3, 4, 'func'] : 4376631304\n",
      "{'python': 'guido'} : 4376585488\n",
      "\n",
      "After func()\n",
      "a string : 4376631304\n",
      "[1, 3, 4, 'func'] : 4376631304\n",
      "{} : 4376509248\n",
      "\n"
     ]
    }
   ],
   "source": [
    "#!/usr/bin/env python\n",
    "\n",
    "\"\"\" Passing around mutable and immutable data objects\n",
    "\"\"\"\n",
    "\n",
    "from __future__ import print_function\n",
    "\n",
    "def func(alist, astr, adict):\n",
    "\n",
    "    print('In func() before modification')\n",
    "\n",
    "    print('{0} : {1}'.format(astr,id(astr)))\n",
    "    print('{0} : {1}'.format(alist,id(alist)))\n",
    "    print('{0} : {1}'.format(adict,id(adict)))\n",
    "    print()\n",
    "\n",
    "    alist.append('func')\n",
    "    astr = 'b string'\n",
    "    adict = dict([('python','guido')])\n",
    "\n",
    "    print('In func() after modification')\n",
    "\n",
    "    print('{0} : {1}'.format(astr,id(astr)))\n",
    "    print('{0} : {1}'.format(alist,id(alist)))\n",
    "    print('{0} : {1}'.format(adict,id(adict)))\n",
    "    print()\n",
    "\n",
    "\n",
    "if __name__ == '__main__':\n",
    "    l = [1,3,4]\n",
    "    d = {}\n",
    "    s = 'a string'\n",
    "\n",
    "    print('Before func()')\n",
    "\n",
    "    print('{0} : {1}'.format(s,id(s)))\n",
    "    print('{0} : {1}'.format(l,id(l)))\n",
    "    print('{0} : {1}'.format(d,id(d)))\n",
    "\n",
    "    print()\n",
    "\n",
    "    func(l,s,d)\n",
    "\n",
    "    print('After func()')\n",
    "\n",
    "    print('{0} : {1}'.format(s,id(l)))\n",
    "    print('{0} : {1}'.format(l,id(l)))\n",
    "    print('{0} : {1}'.format(d,id(d)))\n",
    "    print()"
   ]
  },
  {
   "cell_type": "markdown",
   "metadata": {},
   "source": [
    "## 传递可变数据对象"
   ]
  },
  {
   "cell_type": "code",
   "execution_count": 21,
   "metadata": {},
   "outputs": [
    {
     "name": "stdout",
     "output_type": "stream",
     "text": [
      "Before func()\n",
      "[1, 2, 3] : 4376515976\n",
      "\n",
      "In func() before modification\n",
      "[1, 2, 3] : 4376515976\n",
      "\n",
      "In func() after modification\n",
      "[1, 2, 3, 'new item'] : 4376515976\n",
      "\n",
      "After func()\n",
      "[1, 2, 3, 'new item'] : 4376515976\n",
      "\n"
     ]
    }
   ],
   "source": [
    "#!/usr/bin/env python\n",
    "\n",
    "\"\"\" Passing mutable data objects\n",
    "and returning a modified version.\n",
    "\"\"\"\n",
    "\n",
    "from __future__ import print_function\n",
    "\n",
    "def func(alist):\n",
    "\n",
    "    print('In func() before modification')\n",
    "    print('{0} : {1}'.format(alist,id(alist)))\n",
    "    print()\n",
    "\n",
    "    astr = alist.append('new item')\n",
    "\n",
    "    print('In func() after modification')\n",
    "    print('{0} : {1}'.format(alist,id(alist)))\n",
    "    print()\n",
    "\n",
    "if __name__ == '__main__':\n",
    "    l = [1,2,3]\n",
    "\n",
    "    print('Before func()')\n",
    "\n",
    "    print('{0} : {1}'.format(l,id(l)))\n",
    "    print()\n",
    "\n",
    "    # since l is a mutable object, any changes\n",
    "    # are automatically propagated to all other bindings\n",
    "    func(l)\n",
    "\n",
    "    print('After func()')\n",
    "\n",
    "    print('{0} : {1}'.format(l,id(l)))\n",
    "    print()"
   ]
  },
  {
   "cell_type": "code",
   "execution_count": 22,
   "metadata": {},
   "outputs": [
    {
     "name": "stdout",
     "output_type": "stream",
     "text": [
      "Before func()\n",
      "[1, 2, 3] : 4376619528\n",
      "\n",
      "In func() before modification\n",
      "[1, 2, 3] : 4376619656\n",
      "\n",
      "In func() after modification\n",
      "[1, 2, 3, 'new item'] : 4376619656\n",
      "\n",
      "After func()\n",
      "[1, 2, 3] : 4376619528\n",
      "\n"
     ]
    }
   ],
   "source": [
    "#!/usr/bin/env python\n",
    "\n",
    "\"\"\" Passing mutable data objects\n",
    "so that the changes are not propagated\n",
    "\"\"\"\n",
    "\n",
    "from __future__ import print_function\n",
    "import copy\n",
    "\n",
    "def func(alist):\n",
    "\n",
    "    print('In func() before modification')\n",
    "    print('{0} : {1}'.format(alist,id(alist)))\n",
    "    print()\n",
    "\n",
    "    astr = alist.append('new item')\n",
    "\n",
    "    print('In func() after modification')\n",
    "    print('{0} : {1}'.format(alist,id(alist)))\n",
    "    print()\n",
    "\n",
    "if __name__ == '__main__':\n",
    "    l = [1,2,3]\n",
    "\n",
    "    print('Before func()')\n",
    "\n",
    "    print('{0} : {1}'.format(l,id(l)))\n",
    "    print()\n",
    "\n",
    "    # since l is a mutable object, any changes\n",
    "    # are automatically propagated to all other bindings\n",
    "    # hence, we create a *real* copy and send it\n",
    "    func(copy.copy(l))\n",
    "\n",
    "    print('After func()')\n",
    "\n",
    "    print('{0} : {1}'.format(l,id(l)))\n",
    "    print()\n"
   ]
  },
  {
   "cell_type": "markdown",
   "metadata": {},
   "source": [
    "## 传递不可变数据对象"
   ]
  },
  {
   "cell_type": "code",
   "execution_count": 23,
   "metadata": {},
   "outputs": [
    {
     "name": "stdout",
     "output_type": "stream",
     "text": [
      "Before func()\n",
      "a string : 4376619120\n",
      "\n",
      "In func() before modification\n",
      "a string : 4376619120\n",
      "\n",
      "In func() after modification\n",
      "b string : 4376620592\n",
      "\n",
      "After func()\n",
      "b string : 4376620592\n",
      "\n"
     ]
    }
   ],
   "source": [
    "#!/usr/bin/env python\n",
    "\n",
    "\"\"\" Passing immutable data objects\n",
    "and returning a modified version.\n",
    "\"\"\"\n",
    "\n",
    "from __future__ import print_function\n",
    "\n",
    "def func(astr):\n",
    "\n",
    "    print('In func() before modification')\n",
    "    print('{0} : {1}'.format(astr,id(astr)))\n",
    "    print()\n",
    "\n",
    "    astr = astr.replace('a','b')\n",
    "\n",
    "    print('In func() after modification')\n",
    "    print('{0} : {1}'.format(astr,id(astr)))\n",
    "    print()\n",
    "\n",
    "    # return the new string\n",
    "    return astr\n",
    "\n",
    "if __name__ == '__main__':\n",
    "    s = str('a string')\n",
    "\n",
    "    print('Before func()')\n",
    "\n",
    "    print('{0} : {1}'.format(s,id(s)))\n",
    "    print()\n",
    "\n",
    "    # since s is an immutbale object, modifications\n",
    "    # are not possible without creating a new object\n",
    "    # with the modified string\n",
    "    # recieve the modified string back as the\n",
    "    # return value\n",
    "    s = func(s)\n",
    "\n",
    "    print('After func()')\n",
    "\n",
    "    print('{0} : {1}'.format(s,id(s)))\n",
    "    print()"
   ]
  },
  {
   "cell_type": "code",
   "execution_count": 24,
   "metadata": {},
   "outputs": [
    {
     "name": "stdout",
     "output_type": "stream",
     "text": [
      "1 6\n",
      "\n",
      "[1, 2, 3, 4] [1, 2, 3, 4]\n",
      "[1, 2, 3] [1, 2, 3, 4]\n"
     ]
    }
   ],
   "source": [
    "#!/usr/bin/env python\n",
    "\n",
    "from __future__ import print_function\n",
    "import copy\n",
    "\n",
    "# Immutable object\n",
    "a = 1\n",
    "b = a\n",
    "\n",
    "# At this stage, a and b both are bound to 1.\n",
    "# This changes in the next step, since I am now changing the\n",
    "# value of b and int is immutable.\n",
    "b = b**2+5\n",
    "\n",
    "print(a,b)\n",
    "print()\n",
    "\n",
    "# Mutable object\n",
    "alist = [1,2,3]\n",
    "blist = alist\n",
    "\n",
    "# At this stage, alist and blist both are bound to [1,2,3]\n",
    "# Since a list is mutable, and hence any change to blist is\n",
    "# also reflected back in alist\n",
    "\n",
    "blist.append(4)\n",
    "\n",
    "print(alist,blist)\n",
    "\n",
    "# We need to rebind alist, since it has been modified\n",
    "# in the append operation above\n",
    "alist = [1,2,3]\n",
    "\n",
    "# create a real copy\n",
    "blist = copy.copy(alist)\n",
    "\n",
    "# only blist is modified.\n",
    "blist.append(4)\n",
    "\n",
    "print(alist,blist)\n"
   ]
  },
  {
   "cell_type": "markdown",
   "metadata": {},
   "source": [
    "## 不可变数据对象有可变数据绑定"
   ]
  },
  {
   "cell_type": "code",
   "execution_count": 25,
   "metadata": {},
   "outputs": [
    {
     "data": {
      "text/plain": [
       "True"
      ]
     },
     "execution_count": 25,
     "metadata": {},
     "output_type": "execute_result"
    }
   ],
   "source": [
    "a=1\n",
    "b=a\n",
    "a is b"
   ]
  },
  {
   "cell_type": "code",
   "execution_count": 26,
   "metadata": {},
   "outputs": [
    {
     "data": {
      "text/plain": [
       "False"
      ]
     },
     "execution_count": 26,
     "metadata": {},
     "output_type": "execute_result"
    }
   ],
   "source": [
    "a=5\n",
    "a is b"
   ]
  },
  {
   "cell_type": "code",
   "execution_count": 27,
   "metadata": {},
   "outputs": [
    {
     "data": {
      "text/plain": [
       "5"
      ]
     },
     "execution_count": 27,
     "metadata": {},
     "output_type": "execute_result"
    }
   ],
   "source": [
    "a"
   ]
  },
  {
   "cell_type": "code",
   "execution_count": 28,
   "metadata": {},
   "outputs": [
    {
     "data": {
      "text/plain": [
       "1"
      ]
     },
     "execution_count": 28,
     "metadata": {},
     "output_type": "execute_result"
    }
   ],
   "source": [
    "b"
   ]
  },
  {
   "cell_type": "code",
   "execution_count": 29,
   "metadata": {},
   "outputs": [
    {
     "data": {
      "text/plain": [
       "[1]"
      ]
     },
     "execution_count": 29,
     "metadata": {},
     "output_type": "execute_result"
    }
   ],
   "source": [
    "a=[]\n",
    "b=a\n",
    "c=a\n",
    "a.append(1)\n",
    "a"
   ]
  },
  {
   "cell_type": "code",
   "execution_count": 30,
   "metadata": {},
   "outputs": [
    {
     "data": {
      "text/plain": [
       "[1]"
      ]
     },
     "execution_count": 30,
     "metadata": {},
     "output_type": "execute_result"
    }
   ],
   "source": [
    "b"
   ]
  },
  {
   "cell_type": "code",
   "execution_count": 31,
   "metadata": {},
   "outputs": [
    {
     "data": {
      "text/plain": [
       "[1]"
      ]
     },
     "execution_count": 31,
     "metadata": {},
     "output_type": "execute_result"
    }
   ],
   "source": [
    "c"
   ]
  },
  {
   "cell_type": "code",
   "execution_count": null,
   "metadata": {},
   "outputs": [],
   "source": []
  }
 ],
 "metadata": {
  "kernelspec": {
   "display_name": "Python 3",
   "language": "python",
   "name": "python3"
  },
  "language_info": {
   "codemirror_mode": {
    "name": "ipython",
    "version": 3
   },
   "file_extension": ".py",
   "mimetype": "text/x-python",
   "name": "python",
   "nbconvert_exporter": "python",
   "pygments_lexer": "ipython3",
   "version": "3.6.4"
  }
 },
 "nbformat": 4,
 "nbformat_minor": 2
}
